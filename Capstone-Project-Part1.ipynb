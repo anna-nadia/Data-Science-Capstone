{
 "cells": [
  {
   "cell_type": "markdown",
   "metadata": {},
   "source": [
    "# Capstone Project\n",
    "### Exploring the relationship between housing prices in Toronto and venues available in the neighborhood"
   ]
  },
  {
   "cell_type": "markdown",
   "metadata": {},
   "source": [
    "## Part 1 - Preparing the Dataset"
   ]
  },
  {
   "cell_type": "code",
   "execution_count": 1,
   "metadata": {},
   "outputs": [],
   "source": [
    "# Import libraries\n",
    "import requests\n",
    "import pandas as pd\n",
    "import numpy as np\n",
    "import json\n",
    "from pandas.io.json import json_normalize\n",
    "import matplotlib.pyplot as plt\n",
    "import matplotlib.cm as cm\n",
    "import matplotlib.colors as colors\n",
    "from sklearn.cluster import KMeans"
   ]
  },
  {
   "cell_type": "code",
   "execution_count": 2,
   "metadata": {},
   "outputs": [
    {
     "name": "stdout",
     "output_type": "stream",
     "text": [
      "WARNING: pip is being invoked by an old script wrapper. This will fail in a future version of pip.\n",
      "Please see https://github.com/pypa/pip/issues/5599 for advice on fixing the underlying issue.\n",
      "To avoid this problem you can invoke Python with '-m pip' instead of running pip directly.\n",
      "Collecting xlrd\n",
      "  Downloading xlrd-1.2.0-py2.py3-none-any.whl (103 kB)\n",
      "\u001b[K     |████████████████████████████████| 103 kB 3.5 MB/s eta 0:00:01\n",
      "\u001b[?25hInstalling collected packages: xlrd\n",
      "Successfully installed xlrd-1.2.0\n"
     ]
    }
   ],
   "source": [
    "!pip install xlrd"
   ]
  },
  {
   "cell_type": "code",
   "execution_count": 3,
   "metadata": {},
   "outputs": [
    {
     "name": "stdout",
     "output_type": "stream",
     "text": [
      "Collecting package metadata (current_repodata.json): done\n",
      "Solving environment: done\n",
      "\n",
      "\n",
      "==> WARNING: A newer version of conda exists. <==\n",
      "  current version: 4.8.2\n",
      "  latest version: 4.8.3\n",
      "\n",
      "Please update conda by running\n",
      "\n",
      "    $ conda update -n base conda\n",
      "\n",
      "\n",
      "\n",
      "## Package Plan ##\n",
      "\n",
      "  environment location: /srv/conda/envs/notebook\n",
      "\n",
      "  added / updated specs:\n",
      "    - geopy\n",
      "\n",
      "\n",
      "The following packages will be downloaded:\n",
      "\n",
      "    package                    |            build\n",
      "    ---------------------------|-----------------\n",
      "    geographiclib-1.50         |             py_0          34 KB  conda-forge\n",
      "    geopy-1.22.0               |     pyh9f0ad1d_0          63 KB  conda-forge\n",
      "    ------------------------------------------------------------\n",
      "                                           Total:          97 KB\n",
      "\n",
      "The following NEW packages will be INSTALLED:\n",
      "\n",
      "  geographiclib      conda-forge/noarch::geographiclib-1.50-py_0\n",
      "  geopy              conda-forge/noarch::geopy-1.22.0-pyh9f0ad1d_0\n",
      "\n",
      "\n",
      "\n",
      "Downloading and Extracting Packages\n",
      "geographiclib-1.50   | 34 KB     | ##################################### | 100% \n",
      "geopy-1.22.0         | 63 KB     | ##################################### | 100% \n",
      "Preparing transaction: done\n",
      "Verifying transaction: done\n",
      "Executing transaction: done\n"
     ]
    }
   ],
   "source": [
    "!conda install -c conda-forge geopy --yes\n",
    "from geopy.geocoders import Nominatim"
   ]
  },
  {
   "cell_type": "markdown",
   "metadata": {},
   "source": [
    "### Import housing data & clean the data"
   ]
  },
  {
   "cell_type": "markdown",
   "metadata": {},
   "source": [
    "Dataset source: https://github.com/slavaspirin/Toronto-housing-price-prediction/blob/master/"
   ]
  },
  {
   "cell_type": "code",
   "execution_count": 73,
   "metadata": {},
   "outputs": [],
   "source": [
    "houses = pd.read_excel('data.xlsx', index_col=0)"
   ]
  },
  {
   "cell_type": "code",
   "execution_count": 74,
   "metadata": {},
   "outputs": [],
   "source": [
    "#remove columns that are not needed\n",
    "houses.drop(['title','description','mls','full_link'], axis=1, inplace=True)"
   ]
  },
  {
   "cell_type": "code",
   "execution_count": 75,
   "metadata": {},
   "outputs": [
    {
     "data": {
      "text/plain": [
       "(7517, 11)"
      ]
     },
     "execution_count": 75,
     "metadata": {},
     "output_type": "execute_result"
    }
   ],
   "source": [
    "#remove condos to focus only on houses\n",
    "index = houses['type'].str.contains('Condo')\n",
    "houses = houses[~index]\n",
    "houses.shape"
   ]
  },
  {
   "cell_type": "code",
   "execution_count": 76,
   "metadata": {},
   "outputs": [
    {
     "data": {
      "text/html": [
       "<div>\n",
       "<style scoped>\n",
       "    .dataframe tbody tr th:only-of-type {\n",
       "        vertical-align: middle;\n",
       "    }\n",
       "\n",
       "    .dataframe tbody tr th {\n",
       "        vertical-align: top;\n",
       "    }\n",
       "\n",
       "    .dataframe thead th {\n",
       "        text-align: right;\n",
       "    }\n",
       "</style>\n",
       "<table border=\"1\" class=\"dataframe\">\n",
       "  <thead>\n",
       "    <tr style=\"text-align: right;\">\n",
       "      <th></th>\n",
       "      <th>final_price</th>\n",
       "      <th>list_price</th>\n",
       "      <th>bedrooms</th>\n",
       "      <th>bathrooms</th>\n",
       "      <th>sqft</th>\n",
       "      <th>parking</th>\n",
       "      <th>type</th>\n",
       "      <th>full_address</th>\n",
       "      <th>lat</th>\n",
       "      <th>long</th>\n",
       "      <th>city_district</th>\n",
       "    </tr>\n",
       "  </thead>\n",
       "  <tbody>\n",
       "    <tr>\n",
       "      <th>1</th>\n",
       "      <td>885000</td>\n",
       "      <td>898000</td>\n",
       "      <td>3 beds</td>\n",
       "      <td>2 baths</td>\n",
       "      <td>N/A sq. ft.</td>\n",
       "      <td>6 parking</td>\n",
       "      <td>Semi-Detached</td>\n",
       "      <td>2 Cabot Crt, Toronto</td>\n",
       "      <td>NaN</td>\n",
       "      <td>NaN</td>\n",
       "      <td>NaN</td>\n",
       "    </tr>\n",
       "    <tr>\n",
       "      <th>4</th>\n",
       "      <td>825513</td>\n",
       "      <td>839000</td>\n",
       "      <td>2 beds</td>\n",
       "      <td>2 baths</td>\n",
       "      <td>N/A sq. ft.</td>\n",
       "      <td>1 parking</td>\n",
       "      <td>Detached</td>\n",
       "      <td>61 Twelfth St, Toronto</td>\n",
       "      <td>NaN</td>\n",
       "      <td>NaN</td>\n",
       "      <td>NaN</td>\n",
       "    </tr>\n",
       "    <tr>\n",
       "      <th>6</th>\n",
       "      <td>2700000</td>\n",
       "      <td>2798000</td>\n",
       "      <td>4 beds</td>\n",
       "      <td>5 baths</td>\n",
       "      <td>2500–3000 sq. ft.</td>\n",
       "      <td>2 parking</td>\n",
       "      <td>Detached</td>\n",
       "      <td>110 Albertus Ave, Toronto</td>\n",
       "      <td>NaN</td>\n",
       "      <td>NaN</td>\n",
       "      <td>NaN</td>\n",
       "    </tr>\n",
       "    <tr>\n",
       "      <th>8</th>\n",
       "      <td>975000</td>\n",
       "      <td>954900</td>\n",
       "      <td>2 beds</td>\n",
       "      <td>2 baths</td>\n",
       "      <td>1100–1500 sq. ft.</td>\n",
       "      <td>1 parking</td>\n",
       "      <td>Duplex</td>\n",
       "      <td>182 Broadway Ave, Toronto</td>\n",
       "      <td>NaN</td>\n",
       "      <td>NaN</td>\n",
       "      <td>NaN</td>\n",
       "    </tr>\n",
       "    <tr>\n",
       "      <th>10</th>\n",
       "      <td>1057000</td>\n",
       "      <td>1079000</td>\n",
       "      <td>3 + 1 beds</td>\n",
       "      <td>2 baths</td>\n",
       "      <td>N/A sq. ft.</td>\n",
       "      <td>1 parking</td>\n",
       "      <td>Semi-Detached</td>\n",
       "      <td>342 Indian Road Cres, Toronto</td>\n",
       "      <td>NaN</td>\n",
       "      <td>NaN</td>\n",
       "      <td>NaN</td>\n",
       "    </tr>\n",
       "  </tbody>\n",
       "</table>\n",
       "</div>"
      ],
      "text/plain": [
       "   final_price list_price    bedrooms bathrooms               sqft    parking  \\\n",
       "1       885000     898000      3 beds   2 baths        N/A sq. ft.  6 parking   \n",
       "4       825513     839000      2 beds   2 baths        N/A sq. ft.  1 parking   \n",
       "6      2700000    2798000      4 beds   5 baths  2500–3000 sq. ft.  2 parking   \n",
       "8       975000     954900      2 beds   2 baths  1100–1500 sq. ft.  1 parking   \n",
       "10     1057000    1079000  3 + 1 beds   2 baths        N/A sq. ft.  1 parking   \n",
       "\n",
       "             type                    full_address  lat  long  city_district  \n",
       "1   Semi-Detached           2 Cabot Crt, Toronto   NaN   NaN            NaN  \n",
       "4        Detached         61 Twelfth St, Toronto   NaN   NaN            NaN  \n",
       "6        Detached      110 Albertus Ave, Toronto   NaN   NaN            NaN  \n",
       "8          Duplex      182 Broadway Ave, Toronto   NaN   NaN            NaN  \n",
       "10  Semi-Detached  342 Indian Road Cres, Toronto   NaN   NaN            NaN  "
      ]
     },
     "execution_count": 76,
     "metadata": {},
     "output_type": "execute_result"
    }
   ],
   "source": [
    "#clean row data\n",
    "houses['final_price'] = houses.final_price.astype('str').str.replace(',','')\n",
    "houses['list_price'] = houses.list_price.astype('str').str.replace(',','')\n",
    "houses['list_price'] = houses.list_price.astype('str').str.replace('$','')\n",
    "houses.head()"
   ]
  },
  {
   "cell_type": "code",
   "execution_count": 77,
   "metadata": {},
   "outputs": [],
   "source": [
    "#change price type to float\n",
    "houses['final_price']=houses.final_price.astype(float)\n",
    "houses['list_price']=houses.list_price.astype(float)"
   ]
  },
  {
   "cell_type": "code",
   "execution_count": 78,
   "metadata": {},
   "outputs": [
    {
     "data": {
      "text/html": [
       "<div>\n",
       "<style scoped>\n",
       "    .dataframe tbody tr th:only-of-type {\n",
       "        vertical-align: middle;\n",
       "    }\n",
       "\n",
       "    .dataframe tbody tr th {\n",
       "        vertical-align: top;\n",
       "    }\n",
       "\n",
       "    .dataframe thead th {\n",
       "        text-align: right;\n",
       "    }\n",
       "</style>\n",
       "<table border=\"1\" class=\"dataframe\">\n",
       "  <thead>\n",
       "    <tr style=\"text-align: right;\">\n",
       "      <th></th>\n",
       "      <th>final_price</th>\n",
       "      <th>list_price</th>\n",
       "      <th>bedrooms</th>\n",
       "      <th>bathrooms</th>\n",
       "      <th>sqft</th>\n",
       "      <th>parking</th>\n",
       "      <th>type</th>\n",
       "      <th>full_address</th>\n",
       "      <th>lat</th>\n",
       "      <th>long</th>\n",
       "      <th>city_district</th>\n",
       "    </tr>\n",
       "  </thead>\n",
       "  <tbody>\n",
       "    <tr>\n",
       "      <th>1</th>\n",
       "      <td>885000.0</td>\n",
       "      <td>898000.0</td>\n",
       "      <td>3</td>\n",
       "      <td>2</td>\n",
       "      <td>0</td>\n",
       "      <td>6</td>\n",
       "      <td>Semi-Detached</td>\n",
       "      <td>2 Cabot Crt, Toronto</td>\n",
       "      <td>NaN</td>\n",
       "      <td>NaN</td>\n",
       "      <td>NaN</td>\n",
       "    </tr>\n",
       "    <tr>\n",
       "      <th>4</th>\n",
       "      <td>825513.0</td>\n",
       "      <td>839000.0</td>\n",
       "      <td>2</td>\n",
       "      <td>2</td>\n",
       "      <td>0</td>\n",
       "      <td>1</td>\n",
       "      <td>Detached</td>\n",
       "      <td>61 Twelfth St, Toronto</td>\n",
       "      <td>NaN</td>\n",
       "      <td>NaN</td>\n",
       "      <td>NaN</td>\n",
       "    </tr>\n",
       "    <tr>\n",
       "      <th>6</th>\n",
       "      <td>2700000.0</td>\n",
       "      <td>2798000.0</td>\n",
       "      <td>4</td>\n",
       "      <td>5</td>\n",
       "      <td>2500–3000</td>\n",
       "      <td>2</td>\n",
       "      <td>Detached</td>\n",
       "      <td>110 Albertus Ave, Toronto</td>\n",
       "      <td>NaN</td>\n",
       "      <td>NaN</td>\n",
       "      <td>NaN</td>\n",
       "    </tr>\n",
       "    <tr>\n",
       "      <th>8</th>\n",
       "      <td>975000.0</td>\n",
       "      <td>954900.0</td>\n",
       "      <td>2</td>\n",
       "      <td>2</td>\n",
       "      <td>1100–1500</td>\n",
       "      <td>1</td>\n",
       "      <td>Duplex</td>\n",
       "      <td>182 Broadway Ave, Toronto</td>\n",
       "      <td>NaN</td>\n",
       "      <td>NaN</td>\n",
       "      <td>NaN</td>\n",
       "    </tr>\n",
       "    <tr>\n",
       "      <th>10</th>\n",
       "      <td>1057000.0</td>\n",
       "      <td>1079000.0</td>\n",
       "      <td>3 + 1</td>\n",
       "      <td>2</td>\n",
       "      <td>0</td>\n",
       "      <td>1</td>\n",
       "      <td>Semi-Detached</td>\n",
       "      <td>342 Indian Road Cres, Toronto</td>\n",
       "      <td>NaN</td>\n",
       "      <td>NaN</td>\n",
       "      <td>NaN</td>\n",
       "    </tr>\n",
       "  </tbody>\n",
       "</table>\n",
       "</div>"
      ],
      "text/plain": [
       "    final_price  list_price bedrooms bathrooms        sqft parking  \\\n",
       "1      885000.0    898000.0        3         2          0        6   \n",
       "4      825513.0    839000.0        2         2          0        1   \n",
       "6     2700000.0   2798000.0        4         5  2500–3000        2   \n",
       "8      975000.0    954900.0        2         2  1100–1500        1   \n",
       "10    1057000.0   1079000.0    3 + 1         2          0        1   \n",
       "\n",
       "             type                    full_address  lat  long  city_district  \n",
       "1   Semi-Detached           2 Cabot Crt, Toronto   NaN   NaN            NaN  \n",
       "4        Detached         61 Twelfth St, Toronto   NaN   NaN            NaN  \n",
       "6        Detached      110 Albertus Ave, Toronto   NaN   NaN            NaN  \n",
       "8          Duplex      182 Broadway Ave, Toronto   NaN   NaN            NaN  \n",
       "10  Semi-Detached  342 Indian Road Cres, Toronto   NaN   NaN            NaN  "
      ]
     },
     "execution_count": 78,
     "metadata": {},
     "output_type": "execute_result"
    }
   ],
   "source": [
    "#clean row data\n",
    "houses['bedrooms'] = houses.bedrooms.astype('str').str.replace(' beds','')\n",
    "houses['bathrooms'] = houses.bathrooms.astype('str').str.replace(' baths','')\n",
    "houses['parking'] = houses.parking.astype('str').str.replace(' parking','')\n",
    "houses['sqft'] = houses.sqft.astype('str').str.replace('sq. ft.','')\n",
    "houses['sqft'] = houses.sqft.astype('str').str.replace('N/A','0')\n",
    "houses.head()"
   ]
  },
  {
   "cell_type": "code",
   "execution_count": 79,
   "metadata": {},
   "outputs": [
    {
     "data": {
      "text/html": [
       "<div>\n",
       "<style scoped>\n",
       "    .dataframe tbody tr th:only-of-type {\n",
       "        vertical-align: middle;\n",
       "    }\n",
       "\n",
       "    .dataframe tbody tr th {\n",
       "        vertical-align: top;\n",
       "    }\n",
       "\n",
       "    .dataframe thead th {\n",
       "        text-align: right;\n",
       "    }\n",
       "</style>\n",
       "<table border=\"1\" class=\"dataframe\">\n",
       "  <thead>\n",
       "    <tr style=\"text-align: right;\">\n",
       "      <th></th>\n",
       "      <th>final_price</th>\n",
       "      <th>list_price</th>\n",
       "      <th>bedrooms</th>\n",
       "      <th>bathrooms</th>\n",
       "      <th>sqft</th>\n",
       "      <th>parking</th>\n",
       "      <th>type</th>\n",
       "      <th>full_address</th>\n",
       "      <th>lat</th>\n",
       "      <th>long</th>\n",
       "      <th>city_district</th>\n",
       "    </tr>\n",
       "  </thead>\n",
       "  <tbody>\n",
       "    <tr>\n",
       "      <th>1</th>\n",
       "      <td>885000.0</td>\n",
       "      <td>898000.0</td>\n",
       "      <td>3</td>\n",
       "      <td>2</td>\n",
       "      <td>0</td>\n",
       "      <td>6</td>\n",
       "      <td>Semi-Detached</td>\n",
       "      <td>2 Cabot Crt, Toronto</td>\n",
       "      <td>NaN</td>\n",
       "      <td>NaN</td>\n",
       "      <td>NaN</td>\n",
       "    </tr>\n",
       "    <tr>\n",
       "      <th>4</th>\n",
       "      <td>825513.0</td>\n",
       "      <td>839000.0</td>\n",
       "      <td>2</td>\n",
       "      <td>2</td>\n",
       "      <td>0</td>\n",
       "      <td>1</td>\n",
       "      <td>Detached</td>\n",
       "      <td>61 Twelfth St, Toronto</td>\n",
       "      <td>NaN</td>\n",
       "      <td>NaN</td>\n",
       "      <td>NaN</td>\n",
       "    </tr>\n",
       "    <tr>\n",
       "      <th>6</th>\n",
       "      <td>2700000.0</td>\n",
       "      <td>2798000.0</td>\n",
       "      <td>4</td>\n",
       "      <td>5</td>\n",
       "      <td>2500–3000</td>\n",
       "      <td>2</td>\n",
       "      <td>Detached</td>\n",
       "      <td>110 Albertus Ave, Toronto</td>\n",
       "      <td>NaN</td>\n",
       "      <td>NaN</td>\n",
       "      <td>NaN</td>\n",
       "    </tr>\n",
       "    <tr>\n",
       "      <th>8</th>\n",
       "      <td>975000.0</td>\n",
       "      <td>954900.0</td>\n",
       "      <td>2</td>\n",
       "      <td>2</td>\n",
       "      <td>1100–1500</td>\n",
       "      <td>1</td>\n",
       "      <td>Duplex</td>\n",
       "      <td>182 Broadway Ave, Toronto</td>\n",
       "      <td>NaN</td>\n",
       "      <td>NaN</td>\n",
       "      <td>NaN</td>\n",
       "    </tr>\n",
       "    <tr>\n",
       "      <th>10</th>\n",
       "      <td>1057000.0</td>\n",
       "      <td>1079000.0</td>\n",
       "      <td>3.51</td>\n",
       "      <td>2</td>\n",
       "      <td>0</td>\n",
       "      <td>1</td>\n",
       "      <td>Semi-Detached</td>\n",
       "      <td>342 Indian Road Cres, Toronto</td>\n",
       "      <td>NaN</td>\n",
       "      <td>NaN</td>\n",
       "      <td>NaN</td>\n",
       "    </tr>\n",
       "  </tbody>\n",
       "</table>\n",
       "</div>"
      ],
      "text/plain": [
       "    final_price  list_price bedrooms bathrooms        sqft parking  \\\n",
       "1      885000.0    898000.0        3         2          0        6   \n",
       "4      825513.0    839000.0        2         2          0        1   \n",
       "6     2700000.0   2798000.0        4         5  2500–3000        2   \n",
       "8      975000.0    954900.0        2         2  1100–1500        1   \n",
       "10    1057000.0   1079000.0     3.51         2          0        1   \n",
       "\n",
       "             type                    full_address  lat  long  city_district  \n",
       "1   Semi-Detached           2 Cabot Crt, Toronto   NaN   NaN            NaN  \n",
       "4        Detached         61 Twelfth St, Toronto   NaN   NaN            NaN  \n",
       "6        Detached      110 Albertus Ave, Toronto   NaN   NaN            NaN  \n",
       "8          Duplex      182 Broadway Ave, Toronto   NaN   NaN            NaN  \n",
       "10  Semi-Detached  342 Indian Road Cres, Toronto   NaN   NaN            NaN  "
      ]
     },
     "execution_count": 79,
     "metadata": {},
     "output_type": "execute_result"
    }
   ],
   "source": [
    "#clean row data\n",
    "houses['bedrooms'] = houses.bedrooms.astype('str').str.replace(' + ','.5',regex=False)\n",
    "houses['parking'] = houses.parking.astype('str').str.replace('no','0',regex=False)\n",
    "houses.head()"
   ]
  },
  {
   "cell_type": "code",
   "execution_count": 80,
   "metadata": {},
   "outputs": [],
   "source": [
    "#clean sqft column\n",
    "new=houses['sqft'].astype('str').str.split(\"–\", n = 1, expand = True)\n",
    "houses['sqft_min']=new[0]\n",
    "houses['sqft_max']=new[1]"
   ]
  },
  {
   "cell_type": "code",
   "execution_count": 81,
   "metadata": {},
   "outputs": [
    {
     "data": {
      "text/html": [
       "<div>\n",
       "<style scoped>\n",
       "    .dataframe tbody tr th:only-of-type {\n",
       "        vertical-align: middle;\n",
       "    }\n",
       "\n",
       "    .dataframe tbody tr th {\n",
       "        vertical-align: top;\n",
       "    }\n",
       "\n",
       "    .dataframe thead th {\n",
       "        text-align: right;\n",
       "    }\n",
       "</style>\n",
       "<table border=\"1\" class=\"dataframe\">\n",
       "  <thead>\n",
       "    <tr style=\"text-align: right;\">\n",
       "      <th></th>\n",
       "      <th>final_price</th>\n",
       "      <th>list_price</th>\n",
       "      <th>bedrooms</th>\n",
       "      <th>bathrooms</th>\n",
       "      <th>sqft</th>\n",
       "      <th>parking</th>\n",
       "      <th>type</th>\n",
       "      <th>full_address</th>\n",
       "      <th>lat</th>\n",
       "      <th>long</th>\n",
       "      <th>city_district</th>\n",
       "    </tr>\n",
       "  </thead>\n",
       "  <tbody>\n",
       "    <tr>\n",
       "      <th>1</th>\n",
       "      <td>885000.0</td>\n",
       "      <td>898000.0</td>\n",
       "      <td>3</td>\n",
       "      <td>2</td>\n",
       "      <td>NaN</td>\n",
       "      <td>6</td>\n",
       "      <td>Semi-Detached</td>\n",
       "      <td>2 Cabot Crt, Toronto</td>\n",
       "      <td>NaN</td>\n",
       "      <td>NaN</td>\n",
       "      <td>NaN</td>\n",
       "    </tr>\n",
       "    <tr>\n",
       "      <th>4</th>\n",
       "      <td>825513.0</td>\n",
       "      <td>839000.0</td>\n",
       "      <td>2</td>\n",
       "      <td>2</td>\n",
       "      <td>NaN</td>\n",
       "      <td>1</td>\n",
       "      <td>Detached</td>\n",
       "      <td>61 Twelfth St, Toronto</td>\n",
       "      <td>NaN</td>\n",
       "      <td>NaN</td>\n",
       "      <td>NaN</td>\n",
       "    </tr>\n",
       "    <tr>\n",
       "      <th>6</th>\n",
       "      <td>2700000.0</td>\n",
       "      <td>2798000.0</td>\n",
       "      <td>4</td>\n",
       "      <td>5</td>\n",
       "      <td>3000.0</td>\n",
       "      <td>2</td>\n",
       "      <td>Detached</td>\n",
       "      <td>110 Albertus Ave, Toronto</td>\n",
       "      <td>NaN</td>\n",
       "      <td>NaN</td>\n",
       "      <td>NaN</td>\n",
       "    </tr>\n",
       "    <tr>\n",
       "      <th>8</th>\n",
       "      <td>975000.0</td>\n",
       "      <td>954900.0</td>\n",
       "      <td>2</td>\n",
       "      <td>2</td>\n",
       "      <td>1500.0</td>\n",
       "      <td>1</td>\n",
       "      <td>Duplex</td>\n",
       "      <td>182 Broadway Ave, Toronto</td>\n",
       "      <td>NaN</td>\n",
       "      <td>NaN</td>\n",
       "      <td>NaN</td>\n",
       "    </tr>\n",
       "    <tr>\n",
       "      <th>10</th>\n",
       "      <td>1057000.0</td>\n",
       "      <td>1079000.0</td>\n",
       "      <td>3.51</td>\n",
       "      <td>2</td>\n",
       "      <td>NaN</td>\n",
       "      <td>1</td>\n",
       "      <td>Semi-Detached</td>\n",
       "      <td>342 Indian Road Cres, Toronto</td>\n",
       "      <td>NaN</td>\n",
       "      <td>NaN</td>\n",
       "      <td>NaN</td>\n",
       "    </tr>\n",
       "  </tbody>\n",
       "</table>\n",
       "</div>"
      ],
      "text/plain": [
       "    final_price  list_price bedrooms bathrooms    sqft parking           type  \\\n",
       "1      885000.0    898000.0        3         2     NaN       6  Semi-Detached   \n",
       "4      825513.0    839000.0        2         2     NaN       1       Detached   \n",
       "6     2700000.0   2798000.0        4         5  3000.0       2       Detached   \n",
       "8      975000.0    954900.0        2         2  1500.0       1         Duplex   \n",
       "10    1057000.0   1079000.0     3.51         2     NaN       1  Semi-Detached   \n",
       "\n",
       "                      full_address  lat  long  city_district  \n",
       "1            2 Cabot Crt, Toronto   NaN   NaN            NaN  \n",
       "4          61 Twelfth St, Toronto   NaN   NaN            NaN  \n",
       "6       110 Albertus Ave, Toronto   NaN   NaN            NaN  \n",
       "8       182 Broadway Ave, Toronto   NaN   NaN            NaN  \n",
       "10  342 Indian Road Cres, Toronto   NaN   NaN            NaN  "
      ]
     },
     "execution_count": 81,
     "metadata": {},
     "output_type": "execute_result"
    }
   ],
   "source": [
    "#Take the max value as the sqft\n",
    "houses['sqft']=houses['sqft_max']\n",
    "houses['sqft']=houses.sqft.astype(float)\n",
    "houses.drop(['sqft_min','sqft_max'],axis=1,inplace=True)\n",
    "houses.head()"
   ]
  },
  {
   "cell_type": "code",
   "execution_count": 82,
   "metadata": {},
   "outputs": [],
   "source": [
    "#remove rows that have no price data\n",
    "houses = houses[houses['final_price'].notnull()]"
   ]
  },
  {
   "cell_type": "code",
   "execution_count": 83,
   "metadata": {},
   "outputs": [],
   "source": [
    "#change types to float for plots\n",
    "houses['bedrooms']=houses.bedrooms.astype(float)\n",
    "houses['bathrooms']=houses.bathrooms.astype(float)\n",
    "houses['parking']=houses.parking.astype(float)"
   ]
  },
  {
   "cell_type": "code",
   "execution_count": 84,
   "metadata": {},
   "outputs": [
    {
     "data": {
      "text/plain": [
       "final_price      float64\n",
       "list_price       float64\n",
       "bedrooms         float64\n",
       "bathrooms        float64\n",
       "sqft             float64\n",
       "parking          float64\n",
       "type              object\n",
       "full_address      object\n",
       "lat              float64\n",
       "long             float64\n",
       "city_district    float64\n",
       "dtype: object"
      ]
     },
     "execution_count": 84,
     "metadata": {},
     "output_type": "execute_result"
    }
   ],
   "source": [
    "houses.dtypes"
   ]
  },
  {
   "cell_type": "code",
   "execution_count": 85,
   "metadata": {},
   "outputs": [
    {
     "data": {
      "text/plain": [
       "(7392, 11)"
      ]
     },
     "execution_count": 85,
     "metadata": {},
     "output_type": "execute_result"
    }
   ],
   "source": [
    "houses.shape"
   ]
  },
  {
   "cell_type": "code",
   "execution_count": 88,
   "metadata": {},
   "outputs": [],
   "source": [
    "#check for n/a or nan values or invalid values\n",
    "index_sqft = houses['sqft'].isna()\n",
    "index_beds = houses['bedrooms'].isna()\n",
    "index_address = houses['full_address'].isna()\n",
    "index_type = houses['type'].str.contains('meta')"
   ]
  },
  {
   "cell_type": "code",
   "execution_count": 89,
   "metadata": {},
   "outputs": [
    {
     "data": {
      "text/plain": [
       "True     5203\n",
       "False    2189\n",
       "Name: sqft, dtype: int64"
      ]
     },
     "execution_count": 89,
     "metadata": {},
     "output_type": "execute_result"
    }
   ],
   "source": [
    "index_sqft.value_counts()"
   ]
  },
  {
   "cell_type": "markdown",
   "metadata": {},
   "source": [
    "**The \"sqft\" column contains too many N/A values to be used for normalizing the price data**"
   ]
  },
  {
   "cell_type": "code",
   "execution_count": 90,
   "metadata": {},
   "outputs": [
    {
     "data": {
      "text/plain": [
       "False    7392\n",
       "Name: bedrooms, dtype: int64"
      ]
     },
     "execution_count": 90,
     "metadata": {},
     "output_type": "execute_result"
    }
   ],
   "source": [
    "index_beds.value_counts()"
   ]
  },
  {
   "cell_type": "code",
   "execution_count": 91,
   "metadata": {},
   "outputs": [
    {
     "data": {
      "text/plain": [
       "False    7366\n",
       "True       26\n",
       "Name: full_address, dtype: int64"
      ]
     },
     "execution_count": 91,
     "metadata": {},
     "output_type": "execute_result"
    }
   ],
   "source": [
    "index_address.value_counts()"
   ]
  },
  {
   "cell_type": "code",
   "execution_count": 92,
   "metadata": {},
   "outputs": [
    {
     "data": {
      "text/plain": [
       "False    7391\n",
       "True        1\n",
       "Name: type, dtype: int64"
      ]
     },
     "execution_count": 92,
     "metadata": {},
     "output_type": "execute_result"
    }
   ],
   "source": [
    "index_type.value_counts()"
   ]
  },
  {
   "cell_type": "code",
   "execution_count": 93,
   "metadata": {},
   "outputs": [
    {
     "name": "stderr",
     "output_type": "stream",
     "text": [
      "/srv/conda/envs/notebook/lib/python3.7/site-packages/ipykernel_launcher.py:3: UserWarning: Boolean Series key will be reindexed to match DataFrame index.\n",
      "  This is separate from the ipykernel package so we can avoid doing imports until\n"
     ]
    },
    {
     "data": {
      "text/plain": [
       "(7365, 11)"
      ]
     },
     "execution_count": 93,
     "metadata": {},
     "output_type": "execute_result"
    }
   ],
   "source": [
    "#remove invalid / missing data rows\n",
    "houses = houses[~index_address]\n",
    "houses = houses[~index_type]\n",
    "houses.shape"
   ]
  },
  {
   "cell_type": "code",
   "execution_count": 94,
   "metadata": {},
   "outputs": [
    {
     "data": {
      "text/html": [
       "<div>\n",
       "<style scoped>\n",
       "    .dataframe tbody tr th:only-of-type {\n",
       "        vertical-align: middle;\n",
       "    }\n",
       "\n",
       "    .dataframe tbody tr th {\n",
       "        vertical-align: top;\n",
       "    }\n",
       "\n",
       "    .dataframe thead th {\n",
       "        text-align: right;\n",
       "    }\n",
       "</style>\n",
       "<table border=\"1\" class=\"dataframe\">\n",
       "  <thead>\n",
       "    <tr style=\"text-align: right;\">\n",
       "      <th></th>\n",
       "      <th>final_price</th>\n",
       "      <th>list_price</th>\n",
       "      <th>bedrooms</th>\n",
       "      <th>bathrooms</th>\n",
       "      <th>sqft</th>\n",
       "      <th>parking</th>\n",
       "      <th>type</th>\n",
       "      <th>full_address</th>\n",
       "      <th>lat</th>\n",
       "      <th>long</th>\n",
       "      <th>city_district</th>\n",
       "    </tr>\n",
       "  </thead>\n",
       "  <tbody>\n",
       "    <tr>\n",
       "      <th>0</th>\n",
       "      <td>885000.0</td>\n",
       "      <td>898000.0</td>\n",
       "      <td>3.00</td>\n",
       "      <td>2.0</td>\n",
       "      <td>NaN</td>\n",
       "      <td>6.0</td>\n",
       "      <td>Semi-Detached</td>\n",
       "      <td>2 Cabot Crt, Toronto</td>\n",
       "      <td>NaN</td>\n",
       "      <td>NaN</td>\n",
       "      <td>NaN</td>\n",
       "    </tr>\n",
       "    <tr>\n",
       "      <th>1</th>\n",
       "      <td>825513.0</td>\n",
       "      <td>839000.0</td>\n",
       "      <td>2.00</td>\n",
       "      <td>2.0</td>\n",
       "      <td>NaN</td>\n",
       "      <td>1.0</td>\n",
       "      <td>Detached</td>\n",
       "      <td>61 Twelfth St, Toronto</td>\n",
       "      <td>NaN</td>\n",
       "      <td>NaN</td>\n",
       "      <td>NaN</td>\n",
       "    </tr>\n",
       "    <tr>\n",
       "      <th>2</th>\n",
       "      <td>2700000.0</td>\n",
       "      <td>2798000.0</td>\n",
       "      <td>4.00</td>\n",
       "      <td>5.0</td>\n",
       "      <td>3000.0</td>\n",
       "      <td>2.0</td>\n",
       "      <td>Detached</td>\n",
       "      <td>110 Albertus Ave, Toronto</td>\n",
       "      <td>NaN</td>\n",
       "      <td>NaN</td>\n",
       "      <td>NaN</td>\n",
       "    </tr>\n",
       "    <tr>\n",
       "      <th>3</th>\n",
       "      <td>975000.0</td>\n",
       "      <td>954900.0</td>\n",
       "      <td>2.00</td>\n",
       "      <td>2.0</td>\n",
       "      <td>1500.0</td>\n",
       "      <td>1.0</td>\n",
       "      <td>Duplex</td>\n",
       "      <td>182 Broadway Ave, Toronto</td>\n",
       "      <td>NaN</td>\n",
       "      <td>NaN</td>\n",
       "      <td>NaN</td>\n",
       "    </tr>\n",
       "    <tr>\n",
       "      <th>4</th>\n",
       "      <td>1057000.0</td>\n",
       "      <td>1079000.0</td>\n",
       "      <td>3.51</td>\n",
       "      <td>2.0</td>\n",
       "      <td>NaN</td>\n",
       "      <td>1.0</td>\n",
       "      <td>Semi-Detached</td>\n",
       "      <td>342 Indian Road Cres, Toronto</td>\n",
       "      <td>NaN</td>\n",
       "      <td>NaN</td>\n",
       "      <td>NaN</td>\n",
       "    </tr>\n",
       "  </tbody>\n",
       "</table>\n",
       "</div>"
      ],
      "text/plain": [
       "   final_price  list_price  bedrooms  bathrooms    sqft  parking  \\\n",
       "0     885000.0    898000.0      3.00        2.0     NaN      6.0   \n",
       "1     825513.0    839000.0      2.00        2.0     NaN      1.0   \n",
       "2    2700000.0   2798000.0      4.00        5.0  3000.0      2.0   \n",
       "3     975000.0    954900.0      2.00        2.0  1500.0      1.0   \n",
       "4    1057000.0   1079000.0      3.51        2.0     NaN      1.0   \n",
       "\n",
       "            type                    full_address  lat  long  city_district  \n",
       "0  Semi-Detached           2 Cabot Crt, Toronto   NaN   NaN            NaN  \n",
       "1       Detached         61 Twelfth St, Toronto   NaN   NaN            NaN  \n",
       "2       Detached      110 Albertus Ave, Toronto   NaN   NaN            NaN  \n",
       "3         Duplex      182 Broadway Ave, Toronto   NaN   NaN            NaN  \n",
       "4  Semi-Detached  342 Indian Road Cres, Toronto   NaN   NaN            NaN  "
      ]
     },
     "execution_count": 94,
     "metadata": {},
     "output_type": "execute_result"
    }
   ],
   "source": [
    "houses.reset_index(drop=True, inplace=True)\n",
    "houses.head()"
   ]
  },
  {
   "cell_type": "markdown",
   "metadata": {},
   "source": [
    "### Explore the data using Plots"
   ]
  },
  {
   "cell_type": "code",
   "execution_count": 95,
   "metadata": {},
   "outputs": [
    {
     "data": {
      "image/png": "[encoded data removed]",
      "text/plain": [
       "<Figure size 1440x720 with 1 Axes>"
      ]
     },
     "metadata": {
      "needs_background": "light"
     },
     "output_type": "display_data"
    }
   ],
   "source": [
    "plt.figure(figsize=(20,10))\n",
    "plt.scatter(houses.bedrooms, houses.final_price, alpha=0.5)\n",
    "plt.title('Exploring Housing Prices')\n",
    "plt.xlabel('bedrooms')\n",
    "plt.ylabel('final price')\n",
    "plt.ylim(0,2500000)\n",
    "plt.show()"
   ]
  },
  {
   "cell_type": "markdown",
   "metadata": {},
   "source": [
    "From 0 to 3 bedrooms, we notice an increasing linear-type relationship with the house price"
   ]
  },
  {
   "cell_type": "code",
   "execution_count": 96,
   "metadata": {},
   "outputs": [
    {
     "data": {
      "image/png": "[encoded data removed]",
      "text/plain": [
       "<Figure size 1440x720 with 1 Axes>"
      ]
     },
     "metadata": {
      "needs_background": "light"
     },
     "output_type": "display_data"
    }
   ],
   "source": [
    "plt.figure(figsize=(20,10))\n",
    "plt.scatter(houses.bathrooms, houses.final_price, alpha=0.5)\n",
    "plt.title('Exploring Housing Prices')\n",
    "plt.xlabel('bathrooms')\n",
    "plt.ylabel('final price')\n",
    "plt.ylim(0,2500000)\n",
    "plt.show()"
   ]
  },
  {
   "cell_type": "markdown",
   "metadata": {},
   "source": [
    "From 1 to 6 bathrooms, we notice an increasing linear-type relationship with the house price"
   ]
  },
  {
   "cell_type": "code",
   "execution_count": 97,
   "metadata": {},
   "outputs": [
    {
     "data": {
      "image/png": "[encoded data removed]",
      "text/plain": [
       "<Figure size 1440x720 with 1 Axes>"
      ]
     },
     "metadata": {
      "needs_background": "light"
     },
     "output_type": "display_data"
    }
   ],
   "source": [
    "plt.figure(figsize=(20,10))\n",
    "plt.scatter(houses.parking, houses.final_price, alpha=0.5)\n",
    "plt.title('Exploring Housing Prices')\n",
    "plt.xlabel('parking')\n",
    "plt.ylabel('final price')\n",
    "plt.ylim(0,2500000)\n",
    "plt.show()"
   ]
  },
  {
   "cell_type": "code",
   "execution_count": 98,
   "metadata": {},
   "outputs": [
    {
     "data": {
      "image/png": "[encoded data removed]",
      "text/plain": [
       "<Figure size 1440x720 with 1 Axes>"
      ]
     },
     "metadata": {
      "needs_background": "light"
     },
     "output_type": "display_data"
    }
   ],
   "source": [
    "plt.figure(figsize=(20,10))\n",
    "plt.scatter(houses.sqft, houses.final_price, alpha=0.5)\n",
    "plt.title('Exploring Housing Prices')\n",
    "plt.xlabel('square feet')\n",
    "plt.ylabel('final price')\n",
    "plt.ylim(0,3000000)\n",
    "plt.show()"
   ]
  },
  {
   "cell_type": "code",
   "execution_count": 99,
   "metadata": {},
   "outputs": [
    {
     "data": {
      "text/plain": [
       "final_price    AxesSubplot(0.1,0.15;0.8x0.75)\n",
       "dtype: object"
      ]
     },
     "execution_count": 99,
     "metadata": {},
     "output_type": "execute_result"
    },
    {
     "data": {
      "image/png": "[encoded data removed]",
      "text/plain": [
       "<Figure size 1440x720 with 1 Axes>"
      ]
     },
     "metadata": {
      "needs_background": "light"
     },
     "output_type": "display_data"
    }
   ],
   "source": [
    "houses.boxplot(column='final_price', by='type', figsize=(20,10), return_type='axes')"
   ]
  },
  {
   "cell_type": "code",
   "execution_count": 26,
   "metadata": {},
   "outputs": [
    {
     "name": "stdout",
     "output_type": "stream",
     "text": [
      "10 postal codes were found\n",
      "20 postal codes were found\n",
      "30 postal codes were found\n",
      "40 postal codes were found\n",
      "50 postal codes were found\n",
      "60 postal codes were found\n",
      "70 postal codes were found\n",
      "80 postal codes were found\n",
      "90 postal codes were found\n",
      "100 postal codes were found\n",
      "110 postal codes were found\n",
      "120 postal codes were found\n",
      "130 postal codes were found\n",
      "140 postal codes were found\n",
      "150 postal codes were found\n",
      "160 postal codes were found\n",
      "170 postal codes were found\n",
      "180 postal codes were found\n",
      "190 postal codes were found\n",
      "200 postal codes were found\n",
      "210 postal codes were found\n",
      "220 postal codes were found\n",
      "230 postal codes were found\n",
      "240 postal codes were found\n",
      "250 postal codes were found\n",
      "260 postal codes were found\n",
      "270 postal codes were found\n",
      "280 postal codes were found\n",
      "290 postal codes were found\n",
      "300 postal codes were found\n",
      "310 postal codes were found\n",
      "320 postal codes were found\n",
      "330 postal codes were found\n",
      "340 postal codes were found\n",
      "350 postal codes were found\n",
      "359 postal codes were found, while 6 postal codes were not found\n"
     ]
    }
   ],
   "source": [
    "# Use Geocode to get the house coordinates from the address\n",
    "latitude=[]\n",
    "longitude=[]\n",
    "geolocator = Nominatim(user_agent=\"TO_explorer\")\n",
    "found=0\n",
    "not_found=0\n",
    "\n",
    "#for address in houses['full_address']:\n",
    "for i in range (7000,7365):\n",
    "    address = houses['full_address'].iloc[i]\n",
    "    location = geolocator.geocode('{}, Ontario'.format(address), timeout=1)\n",
    "    if(location is None):\n",
    "        latitude.append('0')\n",
    "        longitude.append('0')\n",
    "        not_found+=1\n",
    "        if not_found%10==0:\n",
    "            print('{} postal codes were not found'.format(not_found))\n",
    "        if not_found > 500:\n",
    "            break\n",
    "    else:\n",
    "        latitude.append(location.latitude)\n",
    "        longitude.append(location.longitude)\n",
    "        found+=1\n",
    "        if found%10==0:\n",
    "            print('{} postal codes were found'.format(found))\n",
    "        \n",
    "print('{} postal codes were found, while {} postal codes were not found'.format(found, not_found))"
   ]
  },
  {
   "cell_type": "code",
   "execution_count": 31,
   "metadata": {},
   "outputs": [],
   "source": [
    "for i in range (7000,7365):\n",
    "    houses['lat'].iloc[i]=latitude[i-7000]\n",
    "    houses['long'].iloc[i]=longitude[i-7000]"
   ]
  },
  {
   "cell_type": "code",
   "execution_count": 32,
   "metadata": {},
   "outputs": [
    {
     "data": {
      "text/html": [
       "<div>\n",
       "<style scoped>\n",
       "    .dataframe tbody tr th:only-of-type {\n",
       "        vertical-align: middle;\n",
       "    }\n",
       "\n",
       "    .dataframe tbody tr th {\n",
       "        vertical-align: top;\n",
       "    }\n",
       "\n",
       "    .dataframe thead th {\n",
       "        text-align: right;\n",
       "    }\n",
       "</style>\n",
       "<table border=\"1\" class=\"dataframe\">\n",
       "  <thead>\n",
       "    <tr style=\"text-align: right;\">\n",
       "      <th></th>\n",
       "      <th>final_price</th>\n",
       "      <th>list_price</th>\n",
       "      <th>bedrooms</th>\n",
       "      <th>bathrooms</th>\n",
       "      <th>sqft</th>\n",
       "      <th>parking</th>\n",
       "      <th>type</th>\n",
       "      <th>full_address</th>\n",
       "      <th>lat</th>\n",
       "      <th>long</th>\n",
       "      <th>city_district</th>\n",
       "    </tr>\n",
       "  </thead>\n",
       "  <tbody>\n",
       "    <tr>\n",
       "      <th>7360</th>\n",
       "      <td>1222500.0</td>\n",
       "      <td>1298000.0</td>\n",
       "      <td>3.51</td>\n",
       "      <td>3.0</td>\n",
       "      <td>N/A sq. ft.</td>\n",
       "      <td>6.0</td>\n",
       "      <td>Detached</td>\n",
       "      <td>334 Waterloo Ave, Toronto</td>\n",
       "      <td>43.7547</td>\n",
       "      <td>-79.4629</td>\n",
       "      <td>NaN</td>\n",
       "    </tr>\n",
       "    <tr>\n",
       "      <th>7361</th>\n",
       "      <td>1050000.0</td>\n",
       "      <td>1098000.0</td>\n",
       "      <td>5.52</td>\n",
       "      <td>4.0</td>\n",
       "      <td>N/A sq. ft.</td>\n",
       "      <td>4.0</td>\n",
       "      <td>Detached</td>\n",
       "      <td>27 Harfleur Rd, Toronto</td>\n",
       "      <td>43.7932</td>\n",
       "      <td>-79.3001</td>\n",
       "      <td>NaN</td>\n",
       "    </tr>\n",
       "    <tr>\n",
       "      <th>7362</th>\n",
       "      <td>1025000.0</td>\n",
       "      <td>998888.0</td>\n",
       "      <td>5.00</td>\n",
       "      <td>5.0</td>\n",
       "      <td>3000–3500 sq. ft.</td>\n",
       "      <td>2.0</td>\n",
       "      <td>Detached</td>\n",
       "      <td>179 Raleigh Ave, Toronto</td>\n",
       "      <td>43.7064</td>\n",
       "      <td>-79.2628</td>\n",
       "      <td>NaN</td>\n",
       "    </tr>\n",
       "    <tr>\n",
       "      <th>7363</th>\n",
       "      <td>681000.0</td>\n",
       "      <td>650000.0</td>\n",
       "      <td>3.00</td>\n",
       "      <td>3.0</td>\n",
       "      <td>N/A sq. ft.</td>\n",
       "      <td>1.0</td>\n",
       "      <td>Att/Row/Twnhouse</td>\n",
       "      <td>68 Stagecoach Cir, Toronto</td>\n",
       "      <td>43.7881</td>\n",
       "      <td>-79.1605</td>\n",
       "      <td>NaN</td>\n",
       "    </tr>\n",
       "    <tr>\n",
       "      <th>7364</th>\n",
       "      <td>530000.0</td>\n",
       "      <td>530000.0</td>\n",
       "      <td>2.51</td>\n",
       "      <td>2.0</td>\n",
       "      <td>N/A sq. ft.</td>\n",
       "      <td>4.0</td>\n",
       "      <td>Detached</td>\n",
       "      <td>43 Kalmar Ave, Toronto</td>\n",
       "      <td>43.6912</td>\n",
       "      <td>-79.2684</td>\n",
       "      <td>NaN</td>\n",
       "    </tr>\n",
       "  </tbody>\n",
       "</table>\n",
       "</div>"
      ],
      "text/plain": [
       "      final_price  list_price  bedrooms  bathrooms               sqft  \\\n",
       "7360    1222500.0   1298000.0      3.51        3.0        N/A sq. ft.   \n",
       "7361    1050000.0   1098000.0      5.52        4.0        N/A sq. ft.   \n",
       "7362    1025000.0    998888.0      5.00        5.0  3000–3500 sq. ft.   \n",
       "7363     681000.0    650000.0      3.00        3.0        N/A sq. ft.   \n",
       "7364     530000.0    530000.0      2.51        2.0        N/A sq. ft.   \n",
       "\n",
       "      parking              type                 full_address      lat  \\\n",
       "7360      6.0          Detached   334 Waterloo Ave, Toronto   43.7547   \n",
       "7361      4.0          Detached     27 Harfleur Rd, Toronto   43.7932   \n",
       "7362      2.0          Detached    179 Raleigh Ave, Toronto   43.7064   \n",
       "7363      1.0  Att/Row/Twnhouse  68 Stagecoach Cir, Toronto   43.7881   \n",
       "7364      4.0          Detached      43 Kalmar Ave, Toronto   43.6912   \n",
       "\n",
       "         long  city_district  \n",
       "7360 -79.4629            NaN  \n",
       "7361 -79.3001            NaN  \n",
       "7362 -79.2628            NaN  \n",
       "7363 -79.1605            NaN  \n",
       "7364 -79.2684            NaN  "
      ]
     },
     "execution_count": 32,
     "metadata": {},
     "output_type": "execute_result"
    }
   ],
   "source": [
    "houses.tail()"
   ]
  },
  {
   "cell_type": "code",
   "execution_count": 33,
   "metadata": {},
   "outputs": [],
   "source": [
    "#Save lat & long data to new CSV file\n",
    "houses.to_csv('data-coordinates-part3.csv')"
   ]
  },
  {
   "cell_type": "markdown",
   "metadata": {},
   "source": [
    "Since I performed the coordinates search in 3 steps, I have to concatenate the 3 data files now"
   ]
  },
  {
   "cell_type": "code",
   "execution_count": 36,
   "metadata": {},
   "outputs": [],
   "source": [
    "df1=pd.read_csv('data-coordinates-part1.csv',index_col=0)"
   ]
  },
  {
   "cell_type": "code",
   "execution_count": 39,
   "metadata": {},
   "outputs": [],
   "source": [
    "df2=pd.read_csv('data-coordinates-part2.csv',index_col=0)"
   ]
  },
  {
   "cell_type": "code",
   "execution_count": 40,
   "metadata": {},
   "outputs": [],
   "source": [
    "df3=pd.read_csv('data-coordinates-part3.csv',index_col=0)"
   ]
  },
  {
   "cell_type": "code",
   "execution_count": 41,
   "metadata": {},
   "outputs": [],
   "source": [
    "for i in range (0,1000):\n",
    "    df2['lat'].iloc[i]=df1['lat'].iloc[i]\n",
    "    df2['long'].iloc[i]=df1['long'].iloc[i]"
   ]
  },
  {
   "cell_type": "code",
   "execution_count": 44,
   "metadata": {},
   "outputs": [],
   "source": [
    "for i in range (7000,7365):\n",
    "    df2['lat'].iloc[i]=df3['lat'].iloc[i]\n",
    "    df2['long'].iloc[i]=df3['long'].iloc[i]"
   ]
  },
  {
   "cell_type": "code",
   "execution_count": 45,
   "metadata": {},
   "outputs": [
    {
     "data": {
      "text/html": [
       "<div>\n",
       "<style scoped>\n",
       "    .dataframe tbody tr th:only-of-type {\n",
       "        vertical-align: middle;\n",
       "    }\n",
       "\n",
       "    .dataframe tbody tr th {\n",
       "        vertical-align: top;\n",
       "    }\n",
       "\n",
       "    .dataframe thead th {\n",
       "        text-align: right;\n",
       "    }\n",
       "</style>\n",
       "<table border=\"1\" class=\"dataframe\">\n",
       "  <thead>\n",
       "    <tr style=\"text-align: right;\">\n",
       "      <th></th>\n",
       "      <th>final_price</th>\n",
       "      <th>list_price</th>\n",
       "      <th>bedrooms</th>\n",
       "      <th>bathrooms</th>\n",
       "      <th>sqft</th>\n",
       "      <th>parking</th>\n",
       "      <th>type</th>\n",
       "      <th>full_address</th>\n",
       "      <th>lat</th>\n",
       "      <th>long</th>\n",
       "      <th>city_district</th>\n",
       "    </tr>\n",
       "  </thead>\n",
       "  <tbody>\n",
       "    <tr>\n",
       "      <th>0</th>\n",
       "      <td>885000.0</td>\n",
       "      <td>898000.0</td>\n",
       "      <td>3.00</td>\n",
       "      <td>2.0</td>\n",
       "      <td>N/A sq. ft.</td>\n",
       "      <td>6.0</td>\n",
       "      <td>Semi-Detached</td>\n",
       "      <td>2 Cabot Crt, Toronto</td>\n",
       "      <td>43.647028</td>\n",
       "      <td>-79.531004</td>\n",
       "      <td>NaN</td>\n",
       "    </tr>\n",
       "    <tr>\n",
       "      <th>1</th>\n",
       "      <td>825513.0</td>\n",
       "      <td>839000.0</td>\n",
       "      <td>2.00</td>\n",
       "      <td>2.0</td>\n",
       "      <td>N/A sq. ft.</td>\n",
       "      <td>1.0</td>\n",
       "      <td>Detached</td>\n",
       "      <td>61 Twelfth St, Toronto</td>\n",
       "      <td>43.596934</td>\n",
       "      <td>-79.509620</td>\n",
       "      <td>NaN</td>\n",
       "    </tr>\n",
       "    <tr>\n",
       "      <th>2</th>\n",
       "      <td>2700000.0</td>\n",
       "      <td>2798000.0</td>\n",
       "      <td>4.00</td>\n",
       "      <td>5.0</td>\n",
       "      <td>2500–3000 sq. ft.</td>\n",
       "      <td>2.0</td>\n",
       "      <td>Detached</td>\n",
       "      <td>110 Albertus Ave, Toronto</td>\n",
       "      <td>43.713951</td>\n",
       "      <td>-79.403311</td>\n",
       "      <td>NaN</td>\n",
       "    </tr>\n",
       "    <tr>\n",
       "      <th>3</th>\n",
       "      <td>975000.0</td>\n",
       "      <td>954900.0</td>\n",
       "      <td>2.00</td>\n",
       "      <td>2.0</td>\n",
       "      <td>1100–1500 sq. ft.</td>\n",
       "      <td>1.0</td>\n",
       "      <td>Duplex</td>\n",
       "      <td>182 Broadway Ave, Toronto</td>\n",
       "      <td>43.711466</td>\n",
       "      <td>-79.390165</td>\n",
       "      <td>NaN</td>\n",
       "    </tr>\n",
       "    <tr>\n",
       "      <th>4</th>\n",
       "      <td>1057000.0</td>\n",
       "      <td>1079000.0</td>\n",
       "      <td>3.51</td>\n",
       "      <td>2.0</td>\n",
       "      <td>N/A sq. ft.</td>\n",
       "      <td>1.0</td>\n",
       "      <td>Semi-Detached</td>\n",
       "      <td>342 Indian Road Cres, Toronto</td>\n",
       "      <td>43.664533</td>\n",
       "      <td>-79.461348</td>\n",
       "      <td>NaN</td>\n",
       "    </tr>\n",
       "  </tbody>\n",
       "</table>\n",
       "</div>"
      ],
      "text/plain": [
       "   final_price  list_price  bedrooms  bathrooms               sqft  parking  \\\n",
       "0     885000.0    898000.0      3.00        2.0        N/A sq. ft.      6.0   \n",
       "1     825513.0    839000.0      2.00        2.0        N/A sq. ft.      1.0   \n",
       "2    2700000.0   2798000.0      4.00        5.0  2500–3000 sq. ft.      2.0   \n",
       "3     975000.0    954900.0      2.00        2.0  1100–1500 sq. ft.      1.0   \n",
       "4    1057000.0   1079000.0      3.51        2.0        N/A sq. ft.      1.0   \n",
       "\n",
       "            type                    full_address        lat       long  \\\n",
       "0  Semi-Detached           2 Cabot Crt, Toronto   43.647028 -79.531004   \n",
       "1       Detached         61 Twelfth St, Toronto   43.596934 -79.509620   \n",
       "2       Detached      110 Albertus Ave, Toronto   43.713951 -79.403311   \n",
       "3         Duplex      182 Broadway Ave, Toronto   43.711466 -79.390165   \n",
       "4  Semi-Detached  342 Indian Road Cres, Toronto   43.664533 -79.461348   \n",
       "\n",
       "   city_district  \n",
       "0            NaN  \n",
       "1            NaN  \n",
       "2            NaN  \n",
       "3            NaN  \n",
       "4            NaN  "
      ]
     },
     "execution_count": 45,
     "metadata": {},
     "output_type": "execute_result"
    }
   ],
   "source": [
    "houses=df2\n",
    "houses.head()"
   ]
  },
  {
   "cell_type": "code",
   "execution_count": 46,
   "metadata": {},
   "outputs": [
    {
     "data": {
      "text/html": [
       "<div>\n",
       "<style scoped>\n",
       "    .dataframe tbody tr th:only-of-type {\n",
       "        vertical-align: middle;\n",
       "    }\n",
       "\n",
       "    .dataframe tbody tr th {\n",
       "        vertical-align: top;\n",
       "    }\n",
       "\n",
       "    .dataframe thead th {\n",
       "        text-align: right;\n",
       "    }\n",
       "</style>\n",
       "<table border=\"1\" class=\"dataframe\">\n",
       "  <thead>\n",
       "    <tr style=\"text-align: right;\">\n",
       "      <th></th>\n",
       "      <th>final_price</th>\n",
       "      <th>list_price</th>\n",
       "      <th>bedrooms</th>\n",
       "      <th>bathrooms</th>\n",
       "      <th>sqft</th>\n",
       "      <th>parking</th>\n",
       "      <th>type</th>\n",
       "      <th>full_address</th>\n",
       "      <th>lat</th>\n",
       "      <th>long</th>\n",
       "      <th>city_district</th>\n",
       "    </tr>\n",
       "  </thead>\n",
       "  <tbody>\n",
       "    <tr>\n",
       "      <th>7360</th>\n",
       "      <td>1222500.0</td>\n",
       "      <td>1298000.0</td>\n",
       "      <td>3.51</td>\n",
       "      <td>3.0</td>\n",
       "      <td>N/A sq. ft.</td>\n",
       "      <td>6.0</td>\n",
       "      <td>Detached</td>\n",
       "      <td>334 Waterloo Ave, Toronto</td>\n",
       "      <td>43.754748</td>\n",
       "      <td>-79.462922</td>\n",
       "      <td>NaN</td>\n",
       "    </tr>\n",
       "    <tr>\n",
       "      <th>7361</th>\n",
       "      <td>1050000.0</td>\n",
       "      <td>1098000.0</td>\n",
       "      <td>5.52</td>\n",
       "      <td>4.0</td>\n",
       "      <td>N/A sq. ft.</td>\n",
       "      <td>4.0</td>\n",
       "      <td>Detached</td>\n",
       "      <td>27 Harfleur Rd, Toronto</td>\n",
       "      <td>43.793183</td>\n",
       "      <td>-79.300133</td>\n",
       "      <td>NaN</td>\n",
       "    </tr>\n",
       "    <tr>\n",
       "      <th>7362</th>\n",
       "      <td>1025000.0</td>\n",
       "      <td>998888.0</td>\n",
       "      <td>5.00</td>\n",
       "      <td>5.0</td>\n",
       "      <td>3000–3500 sq. ft.</td>\n",
       "      <td>2.0</td>\n",
       "      <td>Detached</td>\n",
       "      <td>179 Raleigh Ave, Toronto</td>\n",
       "      <td>43.706356</td>\n",
       "      <td>-79.262838</td>\n",
       "      <td>NaN</td>\n",
       "    </tr>\n",
       "    <tr>\n",
       "      <th>7363</th>\n",
       "      <td>681000.0</td>\n",
       "      <td>650000.0</td>\n",
       "      <td>3.00</td>\n",
       "      <td>3.0</td>\n",
       "      <td>N/A sq. ft.</td>\n",
       "      <td>1.0</td>\n",
       "      <td>Att/Row/Twnhouse</td>\n",
       "      <td>68 Stagecoach Cir, Toronto</td>\n",
       "      <td>43.788142</td>\n",
       "      <td>-79.160543</td>\n",
       "      <td>NaN</td>\n",
       "    </tr>\n",
       "    <tr>\n",
       "      <th>7364</th>\n",
       "      <td>530000.0</td>\n",
       "      <td>530000.0</td>\n",
       "      <td>2.51</td>\n",
       "      <td>2.0</td>\n",
       "      <td>N/A sq. ft.</td>\n",
       "      <td>4.0</td>\n",
       "      <td>Detached</td>\n",
       "      <td>43 Kalmar Ave, Toronto</td>\n",
       "      <td>43.691235</td>\n",
       "      <td>-79.268432</td>\n",
       "      <td>NaN</td>\n",
       "    </tr>\n",
       "  </tbody>\n",
       "</table>\n",
       "</div>"
      ],
      "text/plain": [
       "      final_price  list_price  bedrooms  bathrooms               sqft  \\\n",
       "7360    1222500.0   1298000.0      3.51        3.0        N/A sq. ft.   \n",
       "7361    1050000.0   1098000.0      5.52        4.0        N/A sq. ft.   \n",
       "7362    1025000.0    998888.0      5.00        5.0  3000–3500 sq. ft.   \n",
       "7363     681000.0    650000.0      3.00        3.0        N/A sq. ft.   \n",
       "7364     530000.0    530000.0      2.51        2.0        N/A sq. ft.   \n",
       "\n",
       "      parking              type                 full_address        lat  \\\n",
       "7360      6.0          Detached   334 Waterloo Ave, Toronto   43.754748   \n",
       "7361      4.0          Detached     27 Harfleur Rd, Toronto   43.793183   \n",
       "7362      2.0          Detached    179 Raleigh Ave, Toronto   43.706356   \n",
       "7363      1.0  Att/Row/Twnhouse  68 Stagecoach Cir, Toronto   43.788142   \n",
       "7364      4.0          Detached      43 Kalmar Ave, Toronto   43.691235   \n",
       "\n",
       "           long  city_district  \n",
       "7360 -79.462922            NaN  \n",
       "7361 -79.300133            NaN  \n",
       "7362 -79.262838            NaN  \n",
       "7363 -79.160543            NaN  \n",
       "7364 -79.268432            NaN  "
      ]
     },
     "execution_count": 46,
     "metadata": {},
     "output_type": "execute_result"
    }
   ],
   "source": [
    "houses.tail()"
   ]
  },
  {
   "cell_type": "code",
   "execution_count": 50,
   "metadata": {},
   "outputs": [],
   "source": [
    "#remove lat & long coordinates that weren't found (they were set to 0)\n",
    "index_ll = houses['lat']!=0"
   ]
  },
  {
   "cell_type": "code",
   "execution_count": 51,
   "metadata": {},
   "outputs": [
    {
     "data": {
      "text/plain": [
       "True     7217\n",
       "False     148\n",
       "Name: lat, dtype: int64"
      ]
     },
     "execution_count": 51,
     "metadata": {},
     "output_type": "execute_result"
    }
   ],
   "source": [
    "index_ll.value_counts()"
   ]
  },
  {
   "cell_type": "code",
   "execution_count": 52,
   "metadata": {},
   "outputs": [
    {
     "data": {
      "text/plain": [
       "(7217, 11)"
      ]
     },
     "execution_count": 52,
     "metadata": {},
     "output_type": "execute_result"
    }
   ],
   "source": [
    "houses=houses[index_ll]\n",
    "houses.reset_index(drop=True, inplace=True)\n",
    "houses.shape"
   ]
  },
  {
   "cell_type": "code",
   "execution_count": null,
   "metadata": {},
   "outputs": [],
   "source": [
    "#Save lat & long data to new CSV file\n",
    "houses.to_csv('data-coordinates-full.csv')"
   ]
  },
  {
   "cell_type": "code",
   "execution_count": 3,
   "metadata": {},
   "outputs": [],
   "source": [
    "houses=pd.read_csv('data-coordinates-full.csv',index_col=0)"
   ]
  },
  {
   "cell_type": "code",
   "execution_count": 4,
   "metadata": {},
   "outputs": [
    {
     "data": {
      "text/html": [
       "<div>\n",
       "<style scoped>\n",
       "    .dataframe tbody tr th:only-of-type {\n",
       "        vertical-align: middle;\n",
       "    }\n",
       "\n",
       "    .dataframe tbody tr th {\n",
       "        vertical-align: top;\n",
       "    }\n",
       "\n",
       "    .dataframe thead th {\n",
       "        text-align: right;\n",
       "    }\n",
       "</style>\n",
       "<table border=\"1\" class=\"dataframe\">\n",
       "  <thead>\n",
       "    <tr style=\"text-align: right;\">\n",
       "      <th></th>\n",
       "      <th>final_price</th>\n",
       "      <th>list_price</th>\n",
       "      <th>bedrooms</th>\n",
       "      <th>bathrooms</th>\n",
       "      <th>sqft</th>\n",
       "      <th>parking</th>\n",
       "      <th>full_address</th>\n",
       "      <th>lat</th>\n",
       "      <th>long</th>\n",
       "      <th>city_district</th>\n",
       "    </tr>\n",
       "    <tr>\n",
       "      <th>type</th>\n",
       "      <th></th>\n",
       "      <th></th>\n",
       "      <th></th>\n",
       "      <th></th>\n",
       "      <th></th>\n",
       "      <th></th>\n",
       "      <th></th>\n",
       "      <th></th>\n",
       "      <th></th>\n",
       "      <th></th>\n",
       "    </tr>\n",
       "  </thead>\n",
       "  <tbody>\n",
       "    <tr>\n",
       "      <th>Att/Row/Twnhouse</th>\n",
       "      <td>534</td>\n",
       "      <td>534</td>\n",
       "      <td>534</td>\n",
       "      <td>534</td>\n",
       "      <td>534</td>\n",
       "      <td>534</td>\n",
       "      <td>534</td>\n",
       "      <td>534</td>\n",
       "      <td>534</td>\n",
       "      <td>0</td>\n",
       "    </tr>\n",
       "    <tr>\n",
       "      <th>Co-Op Apt</th>\n",
       "      <td>32</td>\n",
       "      <td>32</td>\n",
       "      <td>32</td>\n",
       "      <td>32</td>\n",
       "      <td>32</td>\n",
       "      <td>32</td>\n",
       "      <td>32</td>\n",
       "      <td>32</td>\n",
       "      <td>32</td>\n",
       "      <td>0</td>\n",
       "    </tr>\n",
       "    <tr>\n",
       "      <th>Co-Ownership Apt</th>\n",
       "      <td>30</td>\n",
       "      <td>30</td>\n",
       "      <td>30</td>\n",
       "      <td>30</td>\n",
       "      <td>30</td>\n",
       "      <td>30</td>\n",
       "      <td>30</td>\n",
       "      <td>30</td>\n",
       "      <td>30</td>\n",
       "      <td>0</td>\n",
       "    </tr>\n",
       "    <tr>\n",
       "      <th>Cottage</th>\n",
       "      <td>1</td>\n",
       "      <td>1</td>\n",
       "      <td>1</td>\n",
       "      <td>1</td>\n",
       "      <td>1</td>\n",
       "      <td>1</td>\n",
       "      <td>1</td>\n",
       "      <td>1</td>\n",
       "      <td>1</td>\n",
       "      <td>0</td>\n",
       "    </tr>\n",
       "    <tr>\n",
       "      <th>Detached</th>\n",
       "      <td>5015</td>\n",
       "      <td>5015</td>\n",
       "      <td>5015</td>\n",
       "      <td>5015</td>\n",
       "      <td>5015</td>\n",
       "      <td>5015</td>\n",
       "      <td>5015</td>\n",
       "      <td>5015</td>\n",
       "      <td>5015</td>\n",
       "      <td>0</td>\n",
       "    </tr>\n",
       "    <tr>\n",
       "      <th>Duplex</th>\n",
       "      <td>33</td>\n",
       "      <td>33</td>\n",
       "      <td>33</td>\n",
       "      <td>33</td>\n",
       "      <td>33</td>\n",
       "      <td>33</td>\n",
       "      <td>33</td>\n",
       "      <td>33</td>\n",
       "      <td>33</td>\n",
       "      <td>0</td>\n",
       "    </tr>\n",
       "    <tr>\n",
       "      <th>Fourplex</th>\n",
       "      <td>1</td>\n",
       "      <td>1</td>\n",
       "      <td>1</td>\n",
       "      <td>1</td>\n",
       "      <td>1</td>\n",
       "      <td>1</td>\n",
       "      <td>1</td>\n",
       "      <td>1</td>\n",
       "      <td>1</td>\n",
       "      <td>0</td>\n",
       "    </tr>\n",
       "    <tr>\n",
       "      <th>Link</th>\n",
       "      <td>41</td>\n",
       "      <td>41</td>\n",
       "      <td>41</td>\n",
       "      <td>41</td>\n",
       "      <td>41</td>\n",
       "      <td>41</td>\n",
       "      <td>41</td>\n",
       "      <td>41</td>\n",
       "      <td>41</td>\n",
       "      <td>0</td>\n",
       "    </tr>\n",
       "    <tr>\n",
       "      <th>Multiplex</th>\n",
       "      <td>22</td>\n",
       "      <td>22</td>\n",
       "      <td>22</td>\n",
       "      <td>22</td>\n",
       "      <td>22</td>\n",
       "      <td>22</td>\n",
       "      <td>22</td>\n",
       "      <td>22</td>\n",
       "      <td>22</td>\n",
       "      <td>0</td>\n",
       "    </tr>\n",
       "    <tr>\n",
       "      <th>Semi-Detached</th>\n",
       "      <td>1623</td>\n",
       "      <td>1623</td>\n",
       "      <td>1623</td>\n",
       "      <td>1623</td>\n",
       "      <td>1623</td>\n",
       "      <td>1623</td>\n",
       "      <td>1623</td>\n",
       "      <td>1623</td>\n",
       "      <td>1623</td>\n",
       "      <td>0</td>\n",
       "    </tr>\n",
       "    <tr>\n",
       "      <th>Store W/Apt/Offc</th>\n",
       "      <td>9</td>\n",
       "      <td>9</td>\n",
       "      <td>9</td>\n",
       "      <td>9</td>\n",
       "      <td>9</td>\n",
       "      <td>9</td>\n",
       "      <td>9</td>\n",
       "      <td>9</td>\n",
       "      <td>9</td>\n",
       "      <td>0</td>\n",
       "    </tr>\n",
       "    <tr>\n",
       "      <th>Triplex</th>\n",
       "      <td>24</td>\n",
       "      <td>24</td>\n",
       "      <td>24</td>\n",
       "      <td>24</td>\n",
       "      <td>24</td>\n",
       "      <td>24</td>\n",
       "      <td>24</td>\n",
       "      <td>24</td>\n",
       "      <td>24</td>\n",
       "      <td>0</td>\n",
       "    </tr>\n",
       "  </tbody>\n",
       "</table>\n",
       "</div>"
      ],
      "text/plain": [
       "                  final_price  list_price  bedrooms  bathrooms  sqft  parking  \\\n",
       "type                                                                            \n",
       "Att/Row/Twnhouse          534         534       534        534   534      534   \n",
       "Co-Op Apt                  32          32        32         32    32       32   \n",
       "Co-Ownership Apt           30          30        30         30    30       30   \n",
       "Cottage                     1           1         1          1     1        1   \n",
       "Detached                 5015        5015      5015       5015  5015     5015   \n",
       "Duplex                     33          33        33         33    33       33   \n",
       "Fourplex                    1           1         1          1     1        1   \n",
       "Link                       41          41        41         41    41       41   \n",
       "Multiplex                  22          22        22         22    22       22   \n",
       "Semi-Detached            1623        1623      1623       1623  1623     1623   \n",
       "Store W/Apt/Offc            9           9         9          9     9        9   \n",
       "Triplex                    24          24        24         24    24       24   \n",
       "\n",
       "                  full_address   lat  long  city_district  \n",
       "type                                                       \n",
       "Att/Row/Twnhouse           534   534   534              0  \n",
       "Co-Op Apt                   32    32    32              0  \n",
       "Co-Ownership Apt            30    30    30              0  \n",
       "Cottage                      1     1     1              0  \n",
       "Detached                  5015  5015  5015              0  \n",
       "Duplex                      33    33    33              0  \n",
       "Fourplex                     1     1     1              0  \n",
       "Link                        41    41    41              0  \n",
       "Multiplex                   22    22    22              0  \n",
       "Semi-Detached             1623  1623  1623              0  \n",
       "Store W/Apt/Offc             9     9     9              0  \n",
       "Triplex                     24    24    24              0  "
      ]
     },
     "execution_count": 4,
     "metadata": {},
     "output_type": "execute_result"
    }
   ],
   "source": [
    "houses.groupby('type').count()"
   ]
  },
  {
   "cell_type": "markdown",
   "metadata": {},
   "source": [
    "Let's focus only on townhouses, semi-detached, and detached houses"
   ]
  },
  {
   "cell_type": "code",
   "execution_count": 5,
   "metadata": {},
   "outputs": [],
   "source": [
    "index_type1 = houses['type'].str.contains('Twnhouse')\n",
    "index_type2 = houses['type'].str.contains('Detached')"
   ]
  },
  {
   "cell_type": "code",
   "execution_count": 6,
   "metadata": {},
   "outputs": [
    {
     "data": {
      "text/plain": [
       "True     7172\n",
       "False     193\n",
       "Name: type, dtype: int64"
      ]
     },
     "execution_count": 6,
     "metadata": {},
     "output_type": "execute_result"
    }
   ],
   "source": [
    "index_type = index_type1 | index_type2\n",
    "index_type.value_counts()"
   ]
  },
  {
   "cell_type": "code",
   "execution_count": 7,
   "metadata": {},
   "outputs": [
    {
     "data": {
      "text/plain": [
       "(7172, 11)"
      ]
     },
     "execution_count": 7,
     "metadata": {},
     "output_type": "execute_result"
    }
   ],
   "source": [
    "# Remove all other house types from the dataframe\n",
    "houses=houses[index_type]\n",
    "houses.reset_index(drop=True, inplace=True)\n",
    "houses.shape"
   ]
  },
  {
   "cell_type": "code",
   "execution_count": 17,
   "metadata": {},
   "outputs": [
    {
     "data": {
      "image/png": "[encoded data removed]",
      "text/plain": [
       "<Figure size 1440x720 with 1 Axes>"
      ]
     },
     "metadata": {
      "needs_background": "light"
     },
     "output_type": "display_data"
    }
   ],
   "source": [
    "houses.boxplot(column='final_price', by='type', figsize=(20,10), return_type='axes')\n",
    "plt.ylabel('Final Price')\n",
    "plt.ylim(0,5000000)\n",
    "plt.title('Prices of different House Types')\n",
    "plt.rcParams.update({'font.size': 22})"
   ]
  },
  {
   "cell_type": "markdown",
   "metadata": {},
   "source": [
    "We notice from the boxplot that houses above 2.5M are considered as outliers"
   ]
  },
  {
   "cell_type": "code",
   "execution_count": 128,
   "metadata": {},
   "outputs": [
    {
     "data": {
      "text/plain": [
       "Text(0, 0.5, 'final house price')"
      ]
     },
     "execution_count": 128,
     "metadata": {},
     "output_type": "execute_result"
    },
    {
     "data": {
      "image/png": "[encoded data removed]",
      "text/plain": [
       "<Figure size 1440x720 with 1 Axes>"
      ]
     },
     "metadata": {
      "needs_background": "light"
     },
     "output_type": "display_data"
    }
   ],
   "source": [
    "df_temp=houses[houses['final_price']<3000000]\n",
    "df_temp.boxplot(column='final_price', by='type', figsize=(20,10), return_type='axes')\n",
    "plt.ylabel('final house price')"
   ]
  },
  {
   "cell_type": "markdown",
   "metadata": {},
   "source": [
    "From the boxplots, we can see that the values of townhouses & semi-detached houses are similar whereas the value of a detached house for the top quartiles is higher"
   ]
  },
  {
   "cell_type": "code",
   "execution_count": 113,
   "metadata": {},
   "outputs": [],
   "source": [
    "#One hot encoding for Type\n",
    "#houses['Detached']=(df2['type']=='Detached').astype('int')\n",
    "#houses['Semi-Detached']=(df2['type']=='Semi-Detached').astype('int')\n",
    "#houses['Twnhouse']=df2['type'].str.contains('Twnhouse').astype('int')"
   ]
  },
  {
   "cell_type": "code",
   "execution_count": 114,
   "metadata": {},
   "outputs": [],
   "source": [
    "#Change type column from categorical to integer values\n",
    "houses['type']=houses.type.astype('str').str.replace('Att/Row/Twnhouse','1')\n",
    "houses['type']=houses.type.astype('str').str.replace('Semi-Detached','2')\n",
    "houses['type']=houses.type.astype('str').str.replace('Detached','3')"
   ]
  },
  {
   "cell_type": "code",
   "execution_count": 115,
   "metadata": {},
   "outputs": [
    {
     "data": {
      "text/html": [
       "<div>\n",
       "<style scoped>\n",
       "    .dataframe tbody tr th:only-of-type {\n",
       "        vertical-align: middle;\n",
       "    }\n",
       "\n",
       "    .dataframe tbody tr th {\n",
       "        vertical-align: top;\n",
       "    }\n",
       "\n",
       "    .dataframe thead th {\n",
       "        text-align: right;\n",
       "    }\n",
       "</style>\n",
       "<table border=\"1\" class=\"dataframe\">\n",
       "  <thead>\n",
       "    <tr style=\"text-align: right;\">\n",
       "      <th></th>\n",
       "      <th>final_price</th>\n",
       "      <th>list_price</th>\n",
       "      <th>bedrooms</th>\n",
       "      <th>bathrooms</th>\n",
       "      <th>sqft</th>\n",
       "      <th>parking</th>\n",
       "      <th>type</th>\n",
       "      <th>full_address</th>\n",
       "      <th>lat</th>\n",
       "      <th>long</th>\n",
       "    </tr>\n",
       "  </thead>\n",
       "  <tbody>\n",
       "    <tr>\n",
       "      <th>0</th>\n",
       "      <td>885000.0</td>\n",
       "      <td>898000.0</td>\n",
       "      <td>3.00</td>\n",
       "      <td>2.0</td>\n",
       "      <td>NaN</td>\n",
       "      <td>6.0</td>\n",
       "      <td>2</td>\n",
       "      <td>2 Cabot Crt, Toronto</td>\n",
       "      <td>43.647028</td>\n",
       "      <td>-79.531004</td>\n",
       "    </tr>\n",
       "    <tr>\n",
       "      <th>1</th>\n",
       "      <td>825513.0</td>\n",
       "      <td>839000.0</td>\n",
       "      <td>2.00</td>\n",
       "      <td>2.0</td>\n",
       "      <td>NaN</td>\n",
       "      <td>1.0</td>\n",
       "      <td>3</td>\n",
       "      <td>61 Twelfth St, Toronto</td>\n",
       "      <td>43.596934</td>\n",
       "      <td>-79.509620</td>\n",
       "    </tr>\n",
       "    <tr>\n",
       "      <th>2</th>\n",
       "      <td>2700000.0</td>\n",
       "      <td>2798000.0</td>\n",
       "      <td>4.00</td>\n",
       "      <td>5.0</td>\n",
       "      <td>3000.0</td>\n",
       "      <td>2.0</td>\n",
       "      <td>3</td>\n",
       "      <td>110 Albertus Ave, Toronto</td>\n",
       "      <td>43.713951</td>\n",
       "      <td>-79.403311</td>\n",
       "    </tr>\n",
       "    <tr>\n",
       "      <th>3</th>\n",
       "      <td>1057000.0</td>\n",
       "      <td>1079000.0</td>\n",
       "      <td>3.51</td>\n",
       "      <td>2.0</td>\n",
       "      <td>NaN</td>\n",
       "      <td>1.0</td>\n",
       "      <td>2</td>\n",
       "      <td>342 Indian Road Cres, Toronto</td>\n",
       "      <td>43.664533</td>\n",
       "      <td>-79.461348</td>\n",
       "    </tr>\n",
       "    <tr>\n",
       "      <th>4</th>\n",
       "      <td>1530000.0</td>\n",
       "      <td>1399900.0</td>\n",
       "      <td>4.52</td>\n",
       "      <td>5.0</td>\n",
       "      <td>3500.0</td>\n",
       "      <td>4.0</td>\n",
       "      <td>3</td>\n",
       "      <td>77 Inniswood Dr, Toronto</td>\n",
       "      <td>43.739059</td>\n",
       "      <td>-79.303981</td>\n",
       "    </tr>\n",
       "  </tbody>\n",
       "</table>\n",
       "</div>"
      ],
      "text/plain": [
       "   final_price  list_price  bedrooms  bathrooms    sqft  parking type  \\\n",
       "0     885000.0    898000.0      3.00        2.0     NaN      6.0    2   \n",
       "1     825513.0    839000.0      2.00        2.0     NaN      1.0    3   \n",
       "2    2700000.0   2798000.0      4.00        5.0  3000.0      2.0    3   \n",
       "3    1057000.0   1079000.0      3.51        2.0     NaN      1.0    2   \n",
       "4    1530000.0   1399900.0      4.52        5.0  3500.0      4.0    3   \n",
       "\n",
       "                     full_address        lat       long  \n",
       "0           2 Cabot Crt, Toronto   43.647028 -79.531004  \n",
       "1         61 Twelfth St, Toronto   43.596934 -79.509620  \n",
       "2      110 Albertus Ave, Toronto   43.713951 -79.403311  \n",
       "3  342 Indian Road Cres, Toronto   43.664533 -79.461348  \n",
       "4       77 Inniswood Dr, Toronto   43.739059 -79.303981  "
      ]
     },
     "execution_count": 115,
     "metadata": {},
     "output_type": "execute_result"
    }
   ],
   "source": [
    "houses.drop(['city_district'],axis=1,inplace=True)\n",
    "houses.head()"
   ]
  },
  {
   "cell_type": "code",
   "execution_count": 116,
   "metadata": {},
   "outputs": [
    {
     "data": {
      "text/html": [
       "<div>\n",
       "<style scoped>\n",
       "    .dataframe tbody tr th:only-of-type {\n",
       "        vertical-align: middle;\n",
       "    }\n",
       "\n",
       "    .dataframe tbody tr th {\n",
       "        vertical-align: top;\n",
       "    }\n",
       "\n",
       "    .dataframe thead th {\n",
       "        text-align: right;\n",
       "    }\n",
       "</style>\n",
       "<table border=\"1\" class=\"dataframe\">\n",
       "  <thead>\n",
       "    <tr style=\"text-align: right;\">\n",
       "      <th></th>\n",
       "      <th>final_price</th>\n",
       "      <th>list_price</th>\n",
       "      <th>bedrooms</th>\n",
       "      <th>bathrooms</th>\n",
       "      <th>sqft</th>\n",
       "      <th>parking</th>\n",
       "      <th>full_address</th>\n",
       "      <th>lat</th>\n",
       "      <th>long</th>\n",
       "    </tr>\n",
       "    <tr>\n",
       "      <th>type</th>\n",
       "      <th></th>\n",
       "      <th></th>\n",
       "      <th></th>\n",
       "      <th></th>\n",
       "      <th></th>\n",
       "      <th></th>\n",
       "      <th></th>\n",
       "      <th></th>\n",
       "      <th></th>\n",
       "    </tr>\n",
       "  </thead>\n",
       "  <tbody>\n",
       "    <tr>\n",
       "      <th>1</th>\n",
       "      <td>522</td>\n",
       "      <td>522</td>\n",
       "      <td>522</td>\n",
       "      <td>522</td>\n",
       "      <td>170</td>\n",
       "      <td>522</td>\n",
       "      <td>522</td>\n",
       "      <td>522</td>\n",
       "      <td>522</td>\n",
       "    </tr>\n",
       "    <tr>\n",
       "      <th>2</th>\n",
       "      <td>1592</td>\n",
       "      <td>1592</td>\n",
       "      <td>1592</td>\n",
       "      <td>1592</td>\n",
       "      <td>474</td>\n",
       "      <td>1592</td>\n",
       "      <td>1592</td>\n",
       "      <td>1592</td>\n",
       "      <td>1592</td>\n",
       "    </tr>\n",
       "    <tr>\n",
       "      <th>3</th>\n",
       "      <td>4911</td>\n",
       "      <td>4911</td>\n",
       "      <td>4911</td>\n",
       "      <td>4911</td>\n",
       "      <td>1444</td>\n",
       "      <td>4911</td>\n",
       "      <td>4911</td>\n",
       "      <td>4911</td>\n",
       "      <td>4911</td>\n",
       "    </tr>\n",
       "  </tbody>\n",
       "</table>\n",
       "</div>"
      ],
      "text/plain": [
       "      final_price  list_price  bedrooms  bathrooms  sqft  parking  \\\n",
       "type                                                                \n",
       "1             522         522       522        522   170      522   \n",
       "2            1592        1592      1592       1592   474     1592   \n",
       "3            4911        4911      4911       4911  1444     4911   \n",
       "\n",
       "      full_address   lat  long  \n",
       "type                            \n",
       "1              522   522   522  \n",
       "2             1592  1592  1592  \n",
       "3             4911  4911  4911  "
      ]
     },
     "execution_count": 116,
     "metadata": {},
     "output_type": "execute_result"
    }
   ],
   "source": [
    "houses.groupby('type').count()"
   ]
  },
  {
   "cell_type": "code",
   "execution_count": 118,
   "metadata": {},
   "outputs": [
    {
     "data": {
      "text/plain": [
       "final_price     float64\n",
       "list_price      float64\n",
       "bedrooms        float64\n",
       "bathrooms       float64\n",
       "sqft            float64\n",
       "parking         float64\n",
       "type              int64\n",
       "full_address     object\n",
       "lat             float64\n",
       "long            float64\n",
       "dtype: object"
      ]
     },
     "execution_count": 118,
     "metadata": {},
     "output_type": "execute_result"
    }
   ],
   "source": [
    "houses['type']=houses['type'].astype('int')\n",
    "houses.dtypes"
   ]
  },
  {
   "cell_type": "code",
   "execution_count": 119,
   "metadata": {},
   "outputs": [
    {
     "data": {
      "text/plain": [
       "True     4937\n",
       "False    2088\n",
       "Name: sqft, dtype: int64"
      ]
     },
     "execution_count": 119,
     "metadata": {},
     "output_type": "execute_result"
    }
   ],
   "source": [
    "#let's check again how much sqft data is missing\n",
    "index_sqft = houses['sqft'].isna()\n",
    "index_sqft.value_counts()"
   ]
  },
  {
   "cell_type": "code",
   "execution_count": 120,
   "metadata": {},
   "outputs": [],
   "source": [
    "houses.to_csv('data-coordinates-final.csv')"
   ]
  },
  {
   "cell_type": "markdown",
   "metadata": {},
   "source": [
    "Now our dataset is cleaned and ready for further analysis. **See the Part 2 Notebook.**"
   ]
  }
 ],
 "metadata": {
  "kernelspec": {
   "display_name": "Python 3",
   "language": "python",
   "name": "python3"
  },
  "language_info": {
   "codemirror_mode": {
    "name": "ipython",
    "version": 3
   },
   "file_extension": ".py",
   "mimetype": "text/x-python",
   "name": "python",
   "nbconvert_exporter": "python",
   "pygments_lexer": "ipython3",
   "version": "3.7.6"
  }
 },
 "nbformat": 4,
 "nbformat_minor": 4
}
